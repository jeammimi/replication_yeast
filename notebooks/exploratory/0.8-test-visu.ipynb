{
 "cells": [
  {
   "cell_type": "code",
   "execution_count": 1,
   "metadata": {
    "collapsed": true
   },
   "outputs": [],
   "source": [
    "%matplotlib inline\n",
    "%load_ext autoreload\n",
    "%autoreload 2\n",
    "from pylab import *\n",
    "import numpy as np"
   ]
  },
  {
   "cell_type": "code",
   "execution_count": 2,
   "metadata": {
    "collapsed": false
   },
   "outputs": [
    {
     "name": "stdout",
     "output_type": "stream",
     "text": [
      "HOOMD-blue v2.1.2 CUDA (7.5) DOUBLE HPMC_MIXED MPI SSE SSE2 SSE3 \n",
      "Compiled: 01/11/2017\n",
      "Copyright 2009-2016 The Regents of the University of Michigan.\n",
      "-----\n",
      "You are using HOOMD-blue. Please cite the following:\n",
      "* J A Anderson, C D Lorenz, and A Travesset. \"General purpose molecular dynamics\n",
      "  simulations fully implemented on graphics processing units\", Journal of\n",
      "  Computational Physics 227 (2008) 5342--5359\n",
      "* J Glaser, T D Nguyen, J A Anderson, P Liu, F Spiga, J A Millan, D C Morse, and\n",
      "  S C Glotzer. \"Strong scaling of general-purpose molecular dynamics simulations\n",
      "  on GPUs\", Computer Physics Communications 192 (2015) 97--107\n",
      "-----\n"
     ]
    }
   ],
   "source": [
    "import sys\n",
    "sys.path.append(\"../../src/data\")\n",
    "from replication.PMotion import Polymer\n",
    "from replication.simulate import load_parameters\n",
    "from replication.tools import load_lengths_and_centro, load_ori_position\n",
    "from replication.ensembleSim import ensembleSim"
   ]
  },
  {
   "cell_type": "code",
   "execution_count": 30,
   "metadata": {
    "collapsed": false,
    "deletable": true,
    "editable": true
   },
   "outputs": [],
   "source": [
    "Nsim = 1 \n",
    "coarse=5000\n",
    "lengths, _ = load_lengths_and_centro(\"../../data/external/saccharomyces_cerevisiae_R64-2-1_20150113.gff\",\n",
    "                                     coarse,verbose=False)\n",
    "\n",
    "  \n",
    "l_ori = load_ori_position(\"../../data/external/oridb.csv\",\n",
    "                                  [\"Confirmed\"],\n",
    "                                  lengths,\n",
    "                                  coarse,verbose=False)\n",
    "p_on=0.01\n",
    "p_off=0.01\n",
    "p_v=0.0001\n",
    "only_one= True\n",
    "fork_speed = 0.2\n",
    "dt_speed = 0.1\n",
    "Ndiff=100\n",
    "E = ensembleSim(Nsim, l_ori, Ndiff, lengths,\n",
    "                        p_on=p_on, p_off=p_off, only_one=only_one, \n",
    "                     all_same_ori=True,fork_speed=fork_speed,\n",
    "                    gindin = False,\n",
    "                    p_v = p_v,\n",
    "                   dt_speed =dt_speed)"
   ]
  },
  {
   "cell_type": "code",
   "execution_count": 31,
   "metadata": {
    "collapsed": false
   },
   "outputs": [
    {
     "name": "stderr",
     "output_type": "stream",
     "text": [
      "100%|██████████| 1/1 [00:01<00:00,  1.78s/it]\n"
     ]
    }
   ],
   "source": [
    "S = E.run_all(2000)\n"
   ]
  },
  {
   "cell_type": "code",
   "execution_count": 32,
   "metadata": {
    "collapsed": false
   },
   "outputs": [
    {
     "data": {
      "text/plain": [
       "array([ 0.,  1.,  0.,  0.,  0.,  0.,  1.,  1.,  1.,  1.,  1.,  1.,  0.,\n",
       "        1.,  1.,  1.,  1.,  0.,  0.,  0.,  0.,  1.,  0.,  0.,  0.,  0.,\n",
       "        0.,  0.,  0.,  0.,  0.,  0.,  0.,  0.,  1.,  1.,  0.,  0.,  0.,\n",
       "        1.,  1.,  1.,  1.,  1.,  0.,  0.,  0.,  0.,  0.,  1.,  0.,  1.,\n",
       "        0.,  1.,  0.,  0.,  0.,  0.,  0.,  1.,  1.,  0.,  0.,  0.,  0.,\n",
       "        0.,  1.,  0.,  1.,  0.,  1.,  0.,  0.,  1.,  0.,  1.,  0.,  1.,\n",
       "        0.,  0.,  0.,  0.,  0.,  0.,  1.,  1.,  0.,  0.,  0.,  1.,  0.,\n",
       "        0.,  1.,  0.,  0.,  0.,  0.,  0.,  0.,  0.,  1.,  0.,  0.,  0.,\n",
       "        1.,  0.,  0.,  0.,  0.,  0.,  0.,  0.,  1.,  1.,  0.,  1.,  1.,\n",
       "        0.,  0.,  1.,  0.,  1.,  0.,  0.,  0.,  0.,  1.,  0.,  0.,  0.,\n",
       "        0.,  1.,  1.,  0.,  0.,  0.,  0.,  0.,  0.,  0.,  0.,  0.,  0.,\n",
       "        0.,  0.,  0.,  0.,  0.,  0.,  0.,  0.,  0.,  0.,  0.,  0.,  1.,\n",
       "        0.,  0.,  0.,  0.,  0.,  0.,  0.,  0.,  0.,  0.,  0.,  0.,  1.,\n",
       "        0.,  1.,  0.,  0.,  0.,  1.,  1.,  0.,  0.,  0.,  0.,  0.,  0.,\n",
       "        0.,  0.,  0.,  0.,  1.,  2.])"
      ]
     },
     "execution_count": 32,
     "metadata": {},
     "output_type": "execute_result"
    }
   ],
   "source": [
    "S.record_diffusing[2].build_time_line()"
   ]
  },
  {
   "cell_type": "code",
   "execution_count": 1,
   "metadata": {
    "collapsed": false,
    "deletable": true,
    "editable": true
   },
   "outputs": [
    {
     "name": "stderr",
     "output_type": "stream",
     "text": [
      "/home/jarbona/miniconda3/lib/python3.5/site-packages/IPython/html.py:14: ShimWarning: The `IPython.html` package has been deprecated. You should import from `notebook` instead. `IPython.html.widgets` has moved to `ipywidgets`.\n",
      "  \"`IPython.html.widgets` has moved to `ipywidgets`.\", ShimWarning)\n"
     ]
    },
    {
     "data": {
      "application/vnd.jupyter.widget-view+json": {
       "model_id": "bca8629f7eb747339798945c368944a1"
      }
     },
     "metadata": {},
     "output_type": "display_data"
    }
   ],
   "source": [
    "from IPython.html.widgets import interact, fixed,interact_manual,IntSlider,VBox,jslink\n",
    "#from ipywidgets import StaticInteract, RangeWidget, RadioWidget\n",
    "import numpy as np\n",
    "import ipyvolume\n",
    "import ipyvolume.pylab as p3\n",
    "import numpy as np\n",
    "\n",
    "f = p3.figure()\n",
    "f.animation = 100\n",
    "\n",
    "#x,y,z are two dimentionnal array with the first dimension being time\n",
    "x = np.array([ 2 * t + np.arange(10) for t in range(5)])\n",
    "y = x**2\n",
    "z = 3 * x\n",
    "\n",
    "p3.xlim(0, np.max(x))\n",
    "p3.ylim(0, np.max(y))\n",
    "p3.zlim(0, np.max(z))\n",
    "\n",
    "time = 0\n",
    "s = p3.scatter(x[time],y[time],z[time], s=0.05,color=\"rgb(1,0,200)\")\n",
    "\n",
    "def toi(time): \n",
    "    s.x = x[time]\n",
    "    s.y = y[time]\n",
    "    s.z = z[time]\n",
    "    \n",
    "time= IntSlider(min=0,max=4,step=1,value=0)\n",
    "it = interact(toi,time=time)\n",
    "\n",
    "vbox = VBox([p3.gcc(),time])\n"
   ]
  },
  {
   "cell_type": "code",
   "execution_count": 191,
   "metadata": {
    "collapsed": false,
    "deletable": true,
    "editable": true
   },
   "outputs": [
    {
     "ename": "AttributeError",
     "evalue": "'function' object has no attribute 'kwargs'",
     "output_type": "error",
     "traceback": [
      "\u001b[0;31m---------------------------------------------------------------------------\u001b[0m",
      "\u001b[0;31mAttributeError\u001b[0m                            Traceback (most recent call last)",
      "\u001b[0;32m<ipython-input-191-911f44265f1a>\u001b[0m in \u001b[0;36m<module>\u001b[0;34m()\u001b[0m\n\u001b[0;32m----> 1\u001b[0;31m \u001b[0mit\u001b[0m\u001b[0;34m.\u001b[0m\u001b[0mkwargs\u001b[0m\u001b[0;34m\u001b[0m\u001b[0m\n\u001b[0m",
      "\u001b[0;31mAttributeError\u001b[0m: 'function' object has no attribute 'kwargs'"
     ]
    }
   ],
   "source": [
    "it.kwargs"
   ]
  },
  {
   "cell_type": "code",
   "execution_count": 3,
   "metadata": {
    "collapsed": true,
    "deletable": true,
    "editable": true
   },
   "outputs": [],
   "source": [
    "import mdtraj as md\n",
    "sys.path.append(\"../../src/data\")\n",
    "\n",
    "data_folder = \"../../data/cluster/yeast-5kb-wt-nuc-wt-spb-no-half/traj1/\"\n",
    "\n",
    "t = md.load(os.path.join(data_folder, 'poly.dcd'),\n",
    "            top=os.path.join(data_folder, \"atoms.hoomdxml\"))\n",
    "\n",
    "with open(os.path.join(data_folder,\"polymer_timing.dat\"),\"rb\") as f:\n",
    "        lPolymers = cPickle.load(f)\n",
    "\n",
    "\n",
    "P = [np.array(lPolymers[p].get_replication_profile()) for p in range(len(lPolymers))]\n"
   ]
  },
  {
   "cell_type": "code",
   "execution_count": 13,
   "metadata": {
    "collapsed": false,
    "deletable": true,
    "editable": true
   },
   "outputs": [
    {
     "name": "stdout",
     "output_type": "stream",
     "text": [
      "-0.839632 1.22289\n"
     ]
    },
    {
     "data": {
      "application/vnd.jupyter.widget-view+json": {
       "model_id": "1833fe7421944a88b7390a5eadfaeeba"
      }
     },
     "metadata": {},
     "output_type": "display_data"
    }
   ],
   "source": [
    "from IPython.html.widgets import interact, fixed,interact_manual,IntSlider,VBox,jslink\n",
    "#from ipywidgets import StaticInteract, RangeWidget, RadioWidget\n",
    "import numpy as np\n",
    "import ipyvolume\n",
    "import ipyvolume.pylab as p3\n",
    "import numpy as np\n",
    "\n",
    "from colour import Color\n",
    "\n",
    "\n",
    "import numpy as np\n",
    "try:\n",
    "    import _pickle as cPickle\n",
    "except:\n",
    "    import cPickle\n",
    "import copy\n",
    "import sys\n",
    "import os\n",
    "\n",
    "sys.path.append(\"../\")\n",
    "\n",
    "# Create a figure\n",
    "f = p3.figure(width=1200,height=1200)\n",
    "f.animation = 0\n",
    "# Tell visual to use this as the viewer.\n",
    "\n",
    "# A silly visualization.\n",
    "color_d = {}\n",
    "color_d[\"green\"] = (0, 128, 0)\n",
    "# Even sillier animation.\n",
    "\n",
    "\n",
    "\n",
    "class Representation:\n",
    "    def __init__(self,traj,what,by_resid=True,tube=False,t=0,update=False,time_color=None,color=\"resid\"):\n",
    "        self.first = True\n",
    "        self.traj = traj\n",
    "        self.selections = []\n",
    "        self.time_color = time_color\n",
    "        self.tube = tube\n",
    "        self.color = color\n",
    "        self.colors = []\n",
    "        self.named_selections = []\n",
    "\n",
    "        n_chains = len(list(self.traj.topology.chains))\n",
    "\n",
    "        if color == \"resid\":\n",
    "            self.colors = []\n",
    "\n",
    "        if by_resid:\n",
    "            for i in range(n_chains):\n",
    "                add = \"\"\n",
    "                if what != \"\":\n",
    "                    add = \" and %s\" % what\n",
    "                sele = \"resid %i\" % i + add\n",
    "\n",
    "                self.named_selections.append(sele)\n",
    "                sel = self.traj.topology.select(sele)\n",
    "\n",
    "                # print(sele,len(sel))\n",
    "                if len(sel) != 0:\n",
    "                    self.selections.append(sel)\n",
    "                    \n",
    "            \n",
    "            if color == \"resid\":\n",
    "                red = Color(\"red\")\n",
    "                blue = Color(\"blue\")\n",
    "                self.colors = [c.hex for c in red.range_to(blue, len(self.selections))]\n",
    "                \n",
    "        else:\n",
    "            self.named_selections.append(what)\n",
    "            sel = self.traj.topology.select(what)\n",
    "            if len(sel) != 0:\n",
    "                self.selections.append(sel)\n",
    "            else:\n",
    "                print(\"Empty selection\", what)\n",
    "\n",
    "    def draw(self, time):\n",
    "        # print(self.selections)\n",
    "        if self.first:\n",
    "\n",
    "            self.rep = []\n",
    "\n",
    "        for isel, sel in enumerate(self.selections):\n",
    "            x, y, z = self.traj.xyz[time, sel].T\n",
    "            print(np.min(x),np.max(x))\n",
    "            if self.time_color is not None:\n",
    "\n",
    "\n",
    "                colors = self.time_color(time)\n",
    "                if len(colors) < isel + 1:\n",
    "                    print(\"The colouring function did not cover all the selection\")\n",
    "                    print(isel, self.named_selections[isel])\n",
    "                    print(len(x), isel)\n",
    "                    raise\n",
    "\n",
    "                colors = colors[isel]\n",
    "\n",
    "                if len(x) != len(colors):\n",
    "                    print(len(x),len(colors),isel)\n",
    "                    print(self.named_selections[isel])\n",
    "                    raise\n",
    "            else:\n",
    "                colors = [1 for i in range(len(x))]\n",
    "\n",
    "            #print(len(x),len(colors))\n",
    "\n",
    "            if self.first:\n",
    "                if self.tube:\n",
    "                    vx = np.concatenate( (x[1:] - x[:-1],[0]))\n",
    "                    vy = np.concatenate( (y[1:] - y[:-1],[0]))\n",
    "                    vz = np.concatenate( (z[1:] - z[:-1],[0]))\n",
    "                    self.rep.append(p3.quiver(x, y, z,vx,vy,vz,s=0.05,color=self.color))\n",
    "                else:\n",
    "                    #print(self.color)\n",
    "                    color = self.color\n",
    "                    if self.color == \"resid\":\n",
    "                        color = self.colors[isel]\n",
    "                    \n",
    "                    self.rep.append(p3.scatter(x, y, z,s=0.0003,color=color,marker=\"sphere\"))\n",
    "            else:\n",
    "\n",
    "                self.rep[isel].x = x\n",
    "                self.rep[isel].y = y\n",
    "                self.rep[isel].z = z\n",
    "                #,y=y,z=z,scalars=colors)#,scalars=replic)\n",
    "        self.first = False\n",
    "#print(x.shape,y.shape)\n",
    "\n",
    "\n",
    "\n",
    "\n",
    "def time_color(time):\n",
    "    replic = copy.deepcopy(P)\n",
    "    for l in range(len(P)):\n",
    "        replic[l][replic[l] > time / 10. ] = 0\n",
    "        replic[l][replic[l] != 0 ] = 2\n",
    "        replic[l][replic[l] == 0 ] = 1\n",
    "    #print(len(replic))\n",
    "    return replic\n",
    "\n",
    "Reprs = [#Representation(traj=t,what=\"name Diff\",tube=False,by_resid=False,color=\"green\"),\n",
    "         #Representation(traj=t,what=\"name Telo\",tube=False,by_resid=False,color=\"green\"),\n",
    "         #Representation(traj=t,what=\" (not name Diff) and (not name Spb) and resid 1\",tube=True,color=\"red\"),\n",
    "         Representation(traj=t,what=\" (not name Diff) and (not name Spb) and resid 3\",tube=False,color=\"red\")]\n",
    "\n",
    "        # Representation(traj=t,what=\" (not name Diff) and (not name Spb)\",tube=True,time_color=time_color)]\n",
    "for r in Reprs:\n",
    "    r.draw(0)\n",
    "\n",
    "R=1.\n",
    "p3.xlim(-R, R)\n",
    "p3.ylim(-R, R)\n",
    "p3.zlim(-R, R)\n",
    "#Load the replication information:\n",
    "def toi(stime,btime):\n",
    "    for r in Reprs:\n",
    "        r.draw(stime+10*btime)\n",
    "\n",
    "\n",
    "#time = IntSlider(min=0, max=100, step=1)\n",
    "\n",
    "#jslink((Reprs[0].rep[0], 'index'), (time, 'value'))\n",
    "\n",
    "vbox = VBox([p3.gcc(),time])\n",
    "vbox"
   ]
  },
  {
   "cell_type": "code",
   "execution_count": 17,
   "metadata": {
    "collapsed": false,
    "deletable": true,
    "editable": true
   },
   "outputs": [],
   "source": [
    "Reprs[0].rep[0].size=0.001"
   ]
  },
  {
   "cell_type": "code",
   "execution_count": 172,
   "metadata": {
    "collapsed": false,
    "deletable": true,
    "editable": true
   },
   "outputs": [],
   "source": [
    "import time as Time\n",
    "f.animation=10\n",
    "for time in range(100):\n",
    "    for r in Reprs:\n",
    "        #print(time)\n",
    "        Time.sleep(0.1)\n",
    "        r.draw(time)"
   ]
  },
  {
   "cell_type": "code",
   "execution_count": 174,
   "metadata": {
    "collapsed": true,
    "deletable": true,
    "editable": true
   },
   "outputs": [],
   "source": [
    "ipyvolume.embed.embed_html(\"test.html\",vbox)"
   ]
  },
  {
   "cell_type": "code",
   "execution_count": null,
   "metadata": {
    "collapsed": true,
    "deletable": true,
    "editable": true
   },
   "outputs": [],
   "source": []
  }
 ],
 "metadata": {
  "kernelspec": {
   "display_name": "Python 3",
   "language": "python",
   "name": "python3"
  },
  "language_info": {
   "codemirror_mode": {
    "name": "ipython",
    "version": 3
   },
   "file_extension": ".py",
   "mimetype": "text/x-python",
   "name": "python",
   "nbconvert_exporter": "python",
   "pygments_lexer": "ipython3",
   "version": "3.5.2"
  }
 },
 "nbformat": 4,
 "nbformat_minor": 2
}
