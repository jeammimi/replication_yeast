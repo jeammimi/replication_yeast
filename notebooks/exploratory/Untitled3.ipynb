{
 "cells": [
  {
   "cell_type": "code",
   "execution_count": 3,
   "metadata": {
    "collapsed": false
   },
   "outputs": [
    {
     "data": {
      "application/vnd.jupyter.widget-view+json": {
       "model_id": "65eb03188b09494bb1309738655fb151"
      }
     },
     "metadata": {},
     "output_type": "display_data"
    },
    {
     "data": {
      "application/vnd.jupyter.widget-view+json": {
       "model_id": "ac2c792bdb5f4780883dc15621b1ef55"
      }
     },
     "metadata": {},
     "output_type": "display_data"
    }
   ],
   "source": [
    "from IPython.html.widgets import interact, fixed,interact_manual,IntSlider,VBox\n",
    "import numpy as np\n",
    "import ipyvolume\n",
    "import ipyvolume.pylab as p3\n",
    "import numpy as np\n",
    "\n",
    "f = p3.figure()\n",
    "f.animation = 100\n",
    "\n",
    "#x,y,z are two dimentionnal array with the first dimension being time\n",
    "x = np.array([ 2 * t + np.arange(10) for t in range(5)])\n",
    "y = x**2\n",
    "z = 3 * x\n",
    "\n",
    "p3.xlim(0, np.max(x))\n",
    "p3.ylim(0, np.max(y))\n",
    "p3.zlim(0, np.max(z))\n",
    "\n",
    "time = 0\n",
    "s = p3.scatter(x[time],y[time],z[time], s=0.05,color=\"rgb(1,0,200)\")\n",
    "\n",
    "def toi(time): \n",
    "    s.x = x[time]\n",
    "    s.y = y[time]\n",
    "    s.z = z[time]\n",
    "    \n",
    "time= IntSlider(min=0,max=4,step=1,value=0)\n",
    "it = interact(toi,time=time)\n",
    "\n",
    "VBox([p3.gcc()])\n"
   ]
  },
  {
   "cell_type": "code",
   "execution_count": 5,
   "metadata": {
    "collapsed": false
   },
   "outputs": [
    {
     "data": {
      "application/vnd.jupyter.widget-view+json": {
       "model_id": "65eb03188b09494bb1309738655fb151"
      }
     },
     "metadata": {},
     "output_type": "display_data"
    }
   ],
   "source": []
  },
  {
   "cell_type": "code",
   "execution_count": null,
   "metadata": {
    "collapsed": true
   },
   "outputs": [],
   "source": []
  }
 ],
 "metadata": {
  "kernelspec": {
   "display_name": "Python 3",
   "language": "python",
   "name": "python3"
  },
  "language_info": {
   "codemirror_mode": {
    "name": "ipython",
    "version": 3
   },
   "file_extension": ".py",
   "mimetype": "text/x-python",
   "name": "python",
   "nbconvert_exporter": "python",
   "pygments_lexer": "ipython3",
   "version": "3.5.2"
  },
  "widgets": {
   "application/vnd.jupyter.widget-state+json": {
    "state": {
     "08302195c2d649f9b5f4465a30eb4fd5": {
      "model_module": "jupyter-js-widgets",
      "model_module_version": "~2.1.0",
      "model_name": "OutputModel",
      "state": {
       "_dom_classes": [],
       "_model_module": "jupyter-js-widgets",
       "_model_module_version": "~2.1.0",
       "_view_module": "jupyter-js-widgets",
       "_view_module_version": "~2.1.0",
       "layout": "IPY_MODEL_69bcff88e298485a88d1de320775ea4a",
       "msg_throttle": 1
      }
     },
     "09891cde7f544ac19f0c900c62d2648e": {
      "model_module": "jupyter-js-widgets",
      "model_module_version": "~2.1.0",
      "model_name": "ToggleButtonModel",
      "state": {
       "_model_module_version": "~2.1.0",
       "_view_module_version": "~2.1.0",
       "description": "stereo",
       "icon": "eye",
       "layout": "IPY_MODEL_3c9c3c9cfc264571a3b071d12645bcc9"
      }
     },
     "0a746c60b46f446585bb2403ae30c3fd": {
      "model_module": "ipyvolume",
      "model_module_version": "*",
      "model_name": "VolumeRendererThreeModel",
      "state": {
       "_model_module_version": "*",
       "_view_module_version": "*",
       "animation": 100,
       "data": null,
       "data_max": 0,
       "data_min": 0,
       "layout": "IPY_MODEL_394879a1f02a4f3b8f57eb43067a996d",
       "scatters": [
        "IPY_MODEL_cac2155ea76e4df9ad8b944b83155632"
       ],
       "tf": null,
       "xlim": [
        0,
        17
       ],
       "ylim": [
        0,
        289
       ],
       "zlim": [
        0,
        51
       ]
      }
     },
     "15c0b8fdbe10469b811b31d58f6bc09b": {
      "model_module": "jupyter-js-widgets",
      "model_module_version": "~2.1.0",
      "model_name": "LayoutModel",
      "state": {
       "_model_module_version": "~2.1.0",
       "_view_module_version": "~2.1.0"
      }
     },
     "1944dd749aba441daaecf77aced1c994": {
      "model_module": "jupyter-js-widgets",
      "model_module_version": "~2.1.0",
      "model_name": "VBoxModel",
      "state": {
       "_dom_classes": [
        "widget-interact"
       ],
       "_model_module_version": "~2.1.0",
       "_view_module_version": "~2.1.0",
       "children": [
        "IPY_MODEL_2649e8509a114587a31d39f30dd4d60d",
        "IPY_MODEL_08302195c2d649f9b5f4465a30eb4fd5"
       ],
       "layout": "IPY_MODEL_670950edc33942dfa615d5827d2f108c"
      }
     },
     "2649e8509a114587a31d39f30dd4d60d": {
      "model_module": "jupyter-js-widgets",
      "model_module_version": "~2.1.0",
      "model_name": "IntSliderModel",
      "state": {
       "_model_module_version": "~2.1.0",
       "_view_module_version": "~2.1.0",
       "description": "time",
       "layout": "IPY_MODEL_a2f0590222a244c897577bd687df212a",
       "max": 4,
       "style": "IPY_MODEL_af9829031da7479999637f9067c16d03"
      }
     },
     "2ecc04c5cb1040228eada52de8aea3a5": {
      "model_module": "jupyter-js-widgets",
      "model_module_version": "~2.1.0",
      "model_name": "LinkModel",
      "state": {
       "_model_module_version": "~2.1.0",
       "_view_module_version": "~2.1.0",
       "source": [
        "IPY_MODEL_e6e0d36fb4c742baa0f99821735f4dcb",
        "stereo"
       ],
       "target": [
        "IPY_MODEL_73b3c631e6f34f1c86814565659b284a",
        "value"
       ]
      }
     },
     "2f8c52d41d00412683befd1fceb0199b": {
      "model_module": "jupyter-js-widgets",
      "model_module_version": "~2.1.0",
      "model_name": "LayoutModel",
      "state": {
       "_model_module_version": "~2.1.0",
       "_view_module_version": "~2.1.0"
      }
     },
     "3190620689b54525b825ac56e38b7bd5": {
      "model_module": "jupyter-js-widgets",
      "model_module_version": "~2.1.0",
      "model_name": "LinkModel",
      "state": {
       "_model_module_version": "~2.1.0",
       "_view_module_version": "~2.1.0",
       "source": [
        "IPY_MODEL_0a746c60b46f446585bb2403ae30c3fd",
        "stereo"
       ],
       "target": [
        "IPY_MODEL_09891cde7f544ac19f0c900c62d2648e",
        "value"
       ]
      }
     },
     "3601531a092e4caaaf1f00778668d84d": {
      "model_module": "jupyter-js-widgets",
      "model_module_version": "~2.1.0",
      "model_name": "LayoutModel",
      "state": {
       "_model_module_version": "~2.1.0",
       "_view_module_version": "~2.1.0"
      }
     },
     "394879a1f02a4f3b8f57eb43067a996d": {
      "model_module": "jupyter-js-widgets",
      "model_module_version": "~2.1.0",
      "model_name": "LayoutModel",
      "state": {
       "_model_module_version": "~2.1.0",
       "_view_module_version": "~2.1.0"
      }
     },
     "3c9c3c9cfc264571a3b071d12645bcc9": {
      "model_module": "jupyter-js-widgets",
      "model_module_version": "~2.1.0",
      "model_name": "LayoutModel",
      "state": {
       "_model_module_version": "~2.1.0",
       "_view_module_version": "~2.1.0"
      }
     },
     "3f4184e234284ba9b8003d40ab3279bb": {
      "model_module": "jupyter-js-widgets",
      "model_module_version": "~2.1.0",
      "model_name": "SliderStyleModel",
      "state": {
       "_model_module_version": "~2.1.0",
       "_view_module_version": "~2.1.0"
      }
     },
     "3f542e75cdf04afaa996d6e6af62bc98": {
      "model_module": "jupyter-js-widgets",
      "model_module_version": "~2.1.0",
      "model_name": "VBoxModel",
      "state": {
       "_model_module_version": "~2.1.0",
       "_view_module_version": "~2.1.0",
       "children": [
        "IPY_MODEL_0a746c60b46f446585bb2403ae30c3fd",
        "IPY_MODEL_4af6c3908d2f481fa0f33f41b624417a"
       ],
       "layout": "IPY_MODEL_7fd20c84ec934a8b877789e634674e3b"
      }
     },
     "40fe7908f4d64718a70bf330a3b1d8d5": {
      "model_module": "jupyter-js-widgets",
      "model_module_version": "~2.1.0",
      "model_name": "VBoxModel",
      "state": {
       "_model_module_version": "~2.1.0",
       "_view_module_version": "~2.1.0",
       "children": [
        "IPY_MODEL_e6e0d36fb4c742baa0f99821735f4dcb",
        "IPY_MODEL_8e6a724af6fc4da88dbfb623462bf526"
       ],
       "layout": "IPY_MODEL_eae002ea4f4b44109969ca115a3c0937"
      }
     },
     "45042bec44724aa7961cf8b190c36686": {
      "model_module": "jupyter-js-widgets",
      "model_module_version": "~2.1.0",
      "model_name": "LayoutModel",
      "state": {
       "_model_module_version": "~2.1.0",
       "_view_module_version": "~2.1.0"
      }
     },
     "48dc2648683b4ce8b91700878bdb08d3": {
      "model_module": "ipyvolume",
      "model_module_version": "*",
      "model_name": "VolumeRendererThreeModel",
      "state": {
       "_model_module_version": "*",
       "_view_module_version": "*",
       "animation": 100,
       "data": null,
       "data_max": 0,
       "data_min": 0,
       "layout": "IPY_MODEL_9db40520a7bd43d59173673c9e00431f",
       "scatters": [
        "IPY_MODEL_8e7c9e1f3e2e4098aa5052271ace582d"
       ],
       "tf": null,
       "xlim": [
        0,
        17
       ],
       "ylim": [
        0,
        289
       ],
       "zlim": [
        0,
        51
       ]
      }
     },
     "4af6c3908d2f481fa0f33f41b624417a": {
      "model_module": "jupyter-js-widgets",
      "model_module_version": "~2.1.0",
      "model_name": "HBoxModel",
      "state": {
       "_model_module_version": "~2.1.0",
       "_view_module_version": "~2.1.0",
       "children": [
        "IPY_MODEL_09891cde7f544ac19f0c900c62d2648e",
        "IPY_MODEL_a023949dc5814b46a042459c818dfbed"
       ],
       "layout": "IPY_MODEL_71d1a03c01ea4ca1a37346bbbcf97506"
      }
     },
     "4bfd1d7ad3a24f18a69446fdb0111ccb": {
      "model_module": "jupyter-js-widgets",
      "model_module_version": "~2.1.0",
      "model_name": "LayoutModel",
      "state": {
       "_model_module_version": "~2.1.0",
       "_view_module_version": "~2.1.0"
      }
     },
     "4cd75f725ccc4aef8856d39f35eaca7d": {
      "model_module": "jupyter-js-widgets",
      "model_module_version": "~2.1.0",
      "model_name": "IntSliderModel",
      "state": {
       "_model_module_version": "~2.1.0",
       "_view_module_version": "~2.1.0",
       "description": "time",
       "layout": "IPY_MODEL_ae8011edbe594bf289c469d17936aac9",
       "max": 4,
       "style": "IPY_MODEL_7ea099df6683472390d80cda441cc38b"
      }
     },
     "4d1b1982405e4edd97acf5f323c1086e": {
      "model_module": "jupyter-js-widgets",
      "model_module_version": "~2.1.0",
      "model_name": "LinkModel",
      "state": {
       "_model_module_version": "~2.1.0",
       "_view_module_version": "~2.1.0",
       "source": [
        "IPY_MODEL_0a746c60b46f446585bb2403ae30c3fd",
        "fullscreen"
       ],
       "target": [
        "IPY_MODEL_a023949dc5814b46a042459c818dfbed",
        "value"
       ]
      }
     },
     "55a6b22dfae243ed94623b06cc1c692b": {
      "model_module": "jupyter-js-widgets",
      "model_module_version": "~2.1.0",
      "model_name": "LayoutModel",
      "state": {
       "_model_module_version": "~2.1.0",
       "_view_module_version": "~2.1.0"
      }
     },
     "5acaab634db24819afa59574d06712e2": {
      "model_module": "jupyter-js-widgets",
      "model_module_version": "~2.1.0",
      "model_name": "HBoxModel",
      "state": {
       "_model_module_version": "~2.1.0",
       "_view_module_version": "~2.1.0",
       "children": [
        "IPY_MODEL_bb78ed7a771f45f3af39d4371cb4eec8",
        "IPY_MODEL_73674364a187443784dab733b9e04b35"
       ],
       "layout": "IPY_MODEL_f258a98119e94f16b4536696ec534aba"
      }
     },
     "5da695319e784a419d573dcdc92767f5": {
      "model_module": "jupyter-js-widgets",
      "model_module_version": "~2.1.0",
      "model_name": "LinkModel",
      "state": {
       "_model_module_version": "~2.1.0",
       "_view_module_version": "~2.1.0",
       "source": [
        "IPY_MODEL_48dc2648683b4ce8b91700878bdb08d3",
        "stereo"
       ],
       "target": [
        "IPY_MODEL_bb78ed7a771f45f3af39d4371cb4eec8",
        "value"
       ]
      }
     },
     "65eb03188b09494bb1309738655fb151": {
      "model_module": "jupyter-js-widgets",
      "model_module_version": "~2.1.0",
      "model_name": "VBoxModel",
      "state": {
       "_dom_classes": [
        "widget-interact"
       ],
       "_model_module_version": "~2.1.0",
       "_view_module_version": "~2.1.0",
       "children": [
        "IPY_MODEL_6eaeae34d71048e394e78871dbbe085a",
        "IPY_MODEL_db2f7f39cacf449ba4347dea77930689"
       ],
       "layout": "IPY_MODEL_e750d9395dcf4983a7ea6c5b4792ad4d"
      }
     },
     "670950edc33942dfa615d5827d2f108c": {
      "model_module": "jupyter-js-widgets",
      "model_module_version": "~2.1.0",
      "model_name": "LayoutModel",
      "state": {
       "_model_module_version": "~2.1.0",
       "_view_module_version": "~2.1.0"
      }
     },
     "6909003a8fbe4dc5a7f8dadd01c9d396": {
      "model_module": "jupyter-js-widgets",
      "model_module_version": "~2.1.0",
      "model_name": "LayoutModel",
      "state": {
       "_model_module_version": "~2.1.0",
       "_view_module_version": "~2.1.0"
      }
     },
     "69bcff88e298485a88d1de320775ea4a": {
      "model_module": "jupyter-js-widgets",
      "model_module_version": "~2.1.0",
      "model_name": "LayoutModel",
      "state": {
       "_model_module_version": "~2.1.0",
       "_view_module_version": "~2.1.0"
      }
     },
     "6e5ba9cc14724d238f1820495d02bb76": {
      "model_module": "jupyter-js-widgets",
      "model_module_version": "~2.1.0",
      "model_name": "LayoutModel",
      "state": {
       "_model_module_version": "~2.1.0",
       "_view_module_version": "~2.1.0"
      }
     },
     "6eaeae34d71048e394e78871dbbe085a": {
      "model_module": "jupyter-js-widgets",
      "model_module_version": "~2.1.0",
      "model_name": "IntSliderModel",
      "state": {
       "_model_module_version": "~2.1.0",
       "_view_module_version": "~2.1.0",
       "description": "time",
       "layout": "IPY_MODEL_7bc946e26b0a4dc3acd5fb8bd7c758bd",
       "max": 4,
       "style": "IPY_MODEL_3f4184e234284ba9b8003d40ab3279bb",
       "value": 2
      }
     },
     "71d1a03c01ea4ca1a37346bbbcf97506": {
      "model_module": "jupyter-js-widgets",
      "model_module_version": "~2.1.0",
      "model_name": "LayoutModel",
      "state": {
       "_model_module_version": "~2.1.0",
       "_view_module_version": "~2.1.0"
      }
     },
     "73674364a187443784dab733b9e04b35": {
      "model_module": "jupyter-js-widgets",
      "model_module_version": "~2.1.0",
      "model_name": "ToggleButtonModel",
      "state": {
       "_model_module_version": "~2.1.0",
       "_view_module_version": "~2.1.0",
       "description": "fullscreen",
       "icon": "arrows-alt",
       "layout": "IPY_MODEL_3601531a092e4caaaf1f00778668d84d"
      }
     },
     "73b3c631e6f34f1c86814565659b284a": {
      "model_module": "jupyter-js-widgets",
      "model_module_version": "~2.1.0",
      "model_name": "ToggleButtonModel",
      "state": {
       "_model_module_version": "~2.1.0",
       "_view_module_version": "~2.1.0",
       "description": "stereo",
       "icon": "eye",
       "layout": "IPY_MODEL_db01ea186d86418faf46ad54cfa0a84d"
      }
     },
     "7bc946e26b0a4dc3acd5fb8bd7c758bd": {
      "model_module": "jupyter-js-widgets",
      "model_module_version": "~2.1.0",
      "model_name": "LayoutModel",
      "state": {
       "_model_module_version": "~2.1.0",
       "_view_module_version": "~2.1.0"
      }
     },
     "7ea099df6683472390d80cda441cc38b": {
      "model_module": "jupyter-js-widgets",
      "model_module_version": "~2.1.0",
      "model_name": "SliderStyleModel",
      "state": {
       "_model_module_version": "~2.1.0",
       "_view_module_version": "~2.1.0"
      }
     },
     "7fd20c84ec934a8b877789e634674e3b": {
      "model_module": "jupyter-js-widgets",
      "model_module_version": "~2.1.0",
      "model_name": "LayoutModel",
      "state": {
       "_model_module_version": "~2.1.0",
       "_view_module_version": "~2.1.0"
      }
     },
     "8e6a724af6fc4da88dbfb623462bf526": {
      "model_module": "jupyter-js-widgets",
      "model_module_version": "~2.1.0",
      "model_name": "HBoxModel",
      "state": {
       "_model_module_version": "~2.1.0",
       "_view_module_version": "~2.1.0",
       "children": [
        "IPY_MODEL_73b3c631e6f34f1c86814565659b284a",
        "IPY_MODEL_a05cc2ece6e848208ddcd83e839a97b5"
       ],
       "layout": "IPY_MODEL_4bfd1d7ad3a24f18a69446fdb0111ccb"
      }
     },
     "8e7c9e1f3e2e4098aa5052271ace582d": {
      "model_module": "ipyvolume",
      "model_module_version": "*",
      "model_name": "ScatterModel",
      "state": {
       "_dom_classes": [],
       "_model_module_version": "*",
       "_view_module_version": "*",
       "color": "rgb(1,0,200)",
       "layout": "IPY_MODEL_6909003a8fbe4dc5a7f8dadd01c9d396",
       "selected": null,
       "size": 0.05,
       "size_selected": 0.026000000000000002,
       "vx": null,
       "vy": null,
       "vz": null,
       "x": [
        4,
        5,
        6,
        7,
        8,
        9,
        10,
        11,
        12,
        13
       ],
       "y": [
        16,
        25,
        36,
        49,
        64,
        81,
        100,
        121,
        144,
        169
       ],
       "z": [
        12,
        15,
        18,
        21,
        24,
        27,
        30,
        33,
        36,
        39
       ]
      }
     },
     "8fa8195537e54db9b409700f7089c2cc": {
      "model_module": "jupyter-js-widgets",
      "model_module_version": "~2.1.0",
      "model_name": "VBoxModel",
      "state": {
       "_model_module_version": "~2.1.0",
       "_view_module_version": "~2.1.0",
       "children": [
        "IPY_MODEL_3f542e75cdf04afaa996d6e6af62bc98",
        "IPY_MODEL_2649e8509a114587a31d39f30dd4d60d"
       ],
       "layout": "IPY_MODEL_55a6b22dfae243ed94623b06cc1c692b"
      }
     },
     "91426c5aece64ce1987e96291d201865": {
      "model_module": "jupyter-js-widgets",
      "model_module_version": "~2.1.0",
      "model_name": "LinkModel",
      "state": {
       "_model_module_version": "~2.1.0",
       "_view_module_version": "~2.1.0",
       "source": [
        "IPY_MODEL_e6e0d36fb4c742baa0f99821735f4dcb",
        "fullscreen"
       ],
       "target": [
        "IPY_MODEL_a05cc2ece6e848208ddcd83e839a97b5",
        "value"
       ]
      }
     },
     "9db40520a7bd43d59173673c9e00431f": {
      "model_module": "jupyter-js-widgets",
      "model_module_version": "~2.1.0",
      "model_name": "LayoutModel",
      "state": {
       "_model_module_version": "~2.1.0",
       "_view_module_version": "~2.1.0"
      }
     },
     "a023949dc5814b46a042459c818dfbed": {
      "model_module": "jupyter-js-widgets",
      "model_module_version": "~2.1.0",
      "model_name": "ToggleButtonModel",
      "state": {
       "_model_module_version": "~2.1.0",
       "_view_module_version": "~2.1.0",
       "description": "fullscreen",
       "icon": "arrows-alt",
       "layout": "IPY_MODEL_45042bec44724aa7961cf8b190c36686"
      }
     },
     "a05cc2ece6e848208ddcd83e839a97b5": {
      "model_module": "jupyter-js-widgets",
      "model_module_version": "~2.1.0",
      "model_name": "ToggleButtonModel",
      "state": {
       "_model_module_version": "~2.1.0",
       "_view_module_version": "~2.1.0",
       "description": "fullscreen",
       "icon": "arrows-alt",
       "layout": "IPY_MODEL_eb2f85b2eb904112a8cfb6a9e8a7acb7"
      }
     },
     "a2f0590222a244c897577bd687df212a": {
      "model_module": "jupyter-js-widgets",
      "model_module_version": "~2.1.0",
      "model_name": "LayoutModel",
      "state": {
       "_model_module_version": "~2.1.0",
       "_view_module_version": "~2.1.0"
      }
     },
     "ac2c792bdb5f4780883dc15621b1ef55": {
      "model_module": "jupyter-js-widgets",
      "model_module_version": "~2.1.0",
      "model_name": "VBoxModel",
      "state": {
       "_model_module_version": "~2.1.0",
       "_view_module_version": "~2.1.0",
       "children": [
        "IPY_MODEL_d086be9dfcb64a39a4e292d971d2e057"
       ],
       "layout": "IPY_MODEL_2f8c52d41d00412683befd1fceb0199b"
      }
     },
     "ae8011edbe594bf289c469d17936aac9": {
      "model_module": "jupyter-js-widgets",
      "model_module_version": "~2.1.0",
      "model_name": "LayoutModel",
      "state": {
       "_model_module_version": "~2.1.0",
       "_view_module_version": "~2.1.0"
      }
     },
     "af9829031da7479999637f9067c16d03": {
      "model_module": "jupyter-js-widgets",
      "model_module_version": "~2.1.0",
      "model_name": "SliderStyleModel",
      "state": {
       "_model_module_version": "~2.1.0",
       "_view_module_version": "~2.1.0"
      }
     },
     "b599e62747a341b89c62ff122d577aa0": {
      "model_module": "jupyter-js-widgets",
      "model_module_version": "~2.1.0",
      "model_name": "LayoutModel",
      "state": {
       "_model_module_version": "~2.1.0",
       "_view_module_version": "~2.1.0"
      }
     },
     "bb78ed7a771f45f3af39d4371cb4eec8": {
      "model_module": "jupyter-js-widgets",
      "model_module_version": "~2.1.0",
      "model_name": "ToggleButtonModel",
      "state": {
       "_model_module_version": "~2.1.0",
       "_view_module_version": "~2.1.0",
       "description": "stereo",
       "icon": "eye",
       "layout": "IPY_MODEL_c37837df385a44a89844fdd61b6da30f"
      }
     },
     "c37837df385a44a89844fdd61b6da30f": {
      "model_module": "jupyter-js-widgets",
      "model_module_version": "~2.1.0",
      "model_name": "LayoutModel",
      "state": {
       "_model_module_version": "~2.1.0",
       "_view_module_version": "~2.1.0"
      }
     },
     "c5dc401a06654179845aa2b0293cc309": {
      "model_module": "jupyter-js-widgets",
      "model_module_version": "~2.1.0",
      "model_name": "LayoutModel",
      "state": {
       "_model_module_version": "~2.1.0",
       "_view_module_version": "~2.1.0"
      }
     },
     "c759f136eeb549f6ab86474034564a37": {
      "model_module": "jupyter-js-widgets",
      "model_module_version": "~2.1.0",
      "model_name": "LinkModel",
      "state": {
       "_model_module_version": "~2.1.0",
       "_view_module_version": "~2.1.0",
       "source": [
        "IPY_MODEL_48dc2648683b4ce8b91700878bdb08d3",
        "fullscreen"
       ],
       "target": [
        "IPY_MODEL_73674364a187443784dab733b9e04b35",
        "value"
       ]
      }
     },
     "cac2155ea76e4df9ad8b944b83155632": {
      "model_module": "ipyvolume",
      "model_module_version": "*",
      "model_name": "ScatterModel",
      "state": {
       "_dom_classes": [],
       "_model_module_version": "*",
       "_view_module_version": "*",
       "color": "rgb(1,0,200)",
       "layout": "IPY_MODEL_ea9d09a963ae445b89871fc2c4666a7b",
       "selected": null,
       "size": 0.05,
       "size_selected": 0.026000000000000002,
       "vx": null,
       "vy": null,
       "vz": null,
       "x": [
        0,
        1,
        2,
        3,
        4,
        5,
        6,
        7,
        8,
        9
       ],
       "y": [
        0,
        1,
        4,
        9,
        16,
        25,
        36,
        49,
        64,
        81
       ],
       "z": [
        0,
        3,
        6,
        9,
        12,
        15,
        18,
        21,
        24,
        27
       ]
      }
     },
     "cb690e7df9fd4861adc473874c58bef0": {
      "model_module": "ipyvolume",
      "model_module_version": "*",
      "model_name": "ScatterModel",
      "state": {
       "_dom_classes": [],
       "_model_module_version": "*",
       "_view_module_version": "*",
       "color": "rgb(1,0,200)",
       "layout": "IPY_MODEL_fc44678e43a24620ad00cc4b2d487388",
       "selected": null,
       "size": 0.05,
       "size_selected": 0.026000000000000002,
       "vx": null,
       "vy": null,
       "vz": null,
       "x": [
        0,
        1,
        2,
        3,
        4,
        5,
        6,
        7,
        8,
        9
       ],
       "y": [
        0,
        1,
        4,
        9,
        16,
        25,
        36,
        49,
        64,
        81
       ],
       "z": [
        0,
        3,
        6,
        9,
        12,
        15,
        18,
        21,
        24,
        27
       ]
      }
     },
     "cdfa04458cca4905bbe18d57674c480f": {
      "model_module": "jupyter-js-widgets",
      "model_module_version": "~2.1.0",
      "model_name": "VBoxModel",
      "state": {
       "_model_module_version": "~2.1.0",
       "_view_module_version": "~2.1.0",
       "children": [
        "IPY_MODEL_40fe7908f4d64718a70bf330a3b1d8d5",
        "IPY_MODEL_4cd75f725ccc4aef8856d39f35eaca7d"
       ],
       "layout": "IPY_MODEL_15c0b8fdbe10469b811b31d58f6bc09b"
      }
     },
     "d086be9dfcb64a39a4e292d971d2e057": {
      "model_module": "jupyter-js-widgets",
      "model_module_version": "~2.1.0",
      "model_name": "VBoxModel",
      "state": {
       "_model_module_version": "~2.1.0",
       "_view_module_version": "~2.1.0",
       "children": [
        "IPY_MODEL_48dc2648683b4ce8b91700878bdb08d3",
        "IPY_MODEL_5acaab634db24819afa59574d06712e2"
       ],
       "layout": "IPY_MODEL_b599e62747a341b89c62ff122d577aa0"
      }
     },
     "db01ea186d86418faf46ad54cfa0a84d": {
      "model_module": "jupyter-js-widgets",
      "model_module_version": "~2.1.0",
      "model_name": "LayoutModel",
      "state": {
       "_model_module_version": "~2.1.0",
       "_view_module_version": "~2.1.0"
      }
     },
     "db2f7f39cacf449ba4347dea77930689": {
      "model_module": "jupyter-js-widgets",
      "model_module_version": "~2.1.0",
      "model_name": "OutputModel",
      "state": {
       "_dom_classes": [],
       "_model_module": "jupyter-js-widgets",
       "_model_module_version": "~2.1.0",
       "_view_module": "jupyter-js-widgets",
       "_view_module_version": "~2.1.0",
       "layout": "IPY_MODEL_6e5ba9cc14724d238f1820495d02bb76",
       "msg_throttle": 1
      }
     },
     "dd60c5325d054a05af3db5b58cdb5e3f": {
      "model_module": "jupyter-js-widgets",
      "model_module_version": "~2.1.0",
      "model_name": "LayoutModel",
      "state": {
       "_model_module_version": "~2.1.0",
       "_view_module_version": "~2.1.0"
      }
     },
     "e6e0d36fb4c742baa0f99821735f4dcb": {
      "model_module": "ipyvolume",
      "model_module_version": "*",
      "model_name": "VolumeRendererThreeModel",
      "state": {
       "_model_module_version": "*",
       "_view_module_version": "*",
       "animation": 100,
       "data": null,
       "data_max": 0,
       "data_min": 0,
       "layout": "IPY_MODEL_dd60c5325d054a05af3db5b58cdb5e3f",
       "scatters": [
        "IPY_MODEL_cb690e7df9fd4861adc473874c58bef0"
       ],
       "tf": null,
       "xlim": [
        0,
        17
       ],
       "ylim": [
        0,
        289
       ],
       "zlim": [
        0,
        51
       ]
      }
     },
     "e750d9395dcf4983a7ea6c5b4792ad4d": {
      "model_module": "jupyter-js-widgets",
      "model_module_version": "~2.1.0",
      "model_name": "LayoutModel",
      "state": {
       "_model_module_version": "~2.1.0",
       "_view_module_version": "~2.1.0"
      }
     },
     "ea9d09a963ae445b89871fc2c4666a7b": {
      "model_module": "jupyter-js-widgets",
      "model_module_version": "~2.1.0",
      "model_name": "LayoutModel",
      "state": {
       "_model_module_version": "~2.1.0",
       "_view_module_version": "~2.1.0"
      }
     },
     "eae002ea4f4b44109969ca115a3c0937": {
      "model_module": "jupyter-js-widgets",
      "model_module_version": "~2.1.0",
      "model_name": "LayoutModel",
      "state": {
       "_model_module_version": "~2.1.0",
       "_view_module_version": "~2.1.0"
      }
     },
     "eb2f85b2eb904112a8cfb6a9e8a7acb7": {
      "model_module": "jupyter-js-widgets",
      "model_module_version": "~2.1.0",
      "model_name": "LayoutModel",
      "state": {
       "_model_module_version": "~2.1.0",
       "_view_module_version": "~2.1.0"
      }
     },
     "edfb502c6ceb489185c8c07048d42925": {
      "model_module": "jupyter-js-widgets",
      "model_module_version": "~2.1.0",
      "model_name": "VBoxModel",
      "state": {
       "_dom_classes": [
        "widget-interact"
       ],
       "_model_module_version": "~2.1.0",
       "_view_module_version": "~2.1.0",
       "children": [
        "IPY_MODEL_4cd75f725ccc4aef8856d39f35eaca7d",
        "IPY_MODEL_f629005957294f8bbe737572deda44ee"
       ],
       "layout": "IPY_MODEL_c5dc401a06654179845aa2b0293cc309"
      }
     },
     "f1cd4e0475de418e954d946129cef259": {
      "model_module": "jupyter-js-widgets",
      "model_module_version": "~2.1.0",
      "model_name": "LayoutModel",
      "state": {
       "_model_module_version": "~2.1.0",
       "_view_module_version": "~2.1.0"
      }
     },
     "f258a98119e94f16b4536696ec534aba": {
      "model_module": "jupyter-js-widgets",
      "model_module_version": "~2.1.0",
      "model_name": "LayoutModel",
      "state": {
       "_model_module_version": "~2.1.0",
       "_view_module_version": "~2.1.0"
      }
     },
     "f629005957294f8bbe737572deda44ee": {
      "model_module": "jupyter-js-widgets",
      "model_module_version": "~2.1.0",
      "model_name": "OutputModel",
      "state": {
       "_dom_classes": [],
       "_model_module": "jupyter-js-widgets",
       "_model_module_version": "~2.1.0",
       "_view_module": "jupyter-js-widgets",
       "_view_module_version": "~2.1.0",
       "layout": "IPY_MODEL_f1cd4e0475de418e954d946129cef259",
       "msg_throttle": 1
      }
     },
     "fc44678e43a24620ad00cc4b2d487388": {
      "model_module": "jupyter-js-widgets",
      "model_module_version": "~2.1.0",
      "model_name": "LayoutModel",
      "state": {
       "_model_module_version": "~2.1.0",
       "_view_module_version": "~2.1.0"
      }
     }
    },
    "version_major": 1,
    "version_minor": 0
   }
  }
 },
 "nbformat": 4,
 "nbformat_minor": 2
}
